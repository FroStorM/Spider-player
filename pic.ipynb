{
 "cells": [
  {
   "cell_type": "code",
   "execution_count": 1,
   "metadata": {
    "collapsed": true
   },
   "outputs": [],
   "source": [
    "# -*- coding: utf-8 -*-\n",
    "import os, sys\n",
    "import requests\n",
    "import re\n",
    "from bs4 import *\n"
   ]
  },
  {
   "cell_type": "code",
   "execution_count": 2,
   "metadata": {},
   "outputs": [],
   "source": [
    "def getHTMLText(url):\n",
    "    try:\n",
    "        r = requests.get(url, timeout=30)\n",
    "        r.raise_for_status() #如果状态码不是200，引发异常\n",
    "        r.encoding = 'utf-8'\n",
    "        return r.text\n",
    "    except:\n",
    "         return \"产生异常\""
   ]
  },
  {
   "cell_type": "code",
   "execution_count": 3,
   "metadata": {},
   "outputs": [],
   "source": [
    "def getPic(srcList, html):\n",
    "    try:\n",
    "        soup = BeautifulSoup(html, \"html.parser\")\n",
    "        all_img = soup.find_all('img')\n",
    "        for img in all_img:\n",
    "            srcList.append(img['src'])\n",
    "    except:\n",
    "        print (\"找不到图片\")"
   ]
  },
  {
   "cell_type": "code",
   "execution_count": 4,
   "metadata": {},
   "outputs": [],
   "source": [
    "def savePic(picList, root):\n",
    "    for src in picList:\n",
    "        path = root + src.split('/')[-1]       #图片名保存为本机文件夹下url最后一个/后的名称\n",
    "        try:\n",
    "            if not os.path.exists(root):\n",
    "                os.mkdir(root)\n",
    "            if not os.path.exists(path):\n",
    "                pic = requests.get(src)\n",
    "                with open(path, 'wb') as f:\n",
    "                    f.write(pic.content)\n",
    "                    f.close()\n",
    "                    print('success')\n",
    "            else:\n",
    "                print('already exist')\n",
    "        except:\n",
    "            print('error')"
   ]
  },
  {
   "cell_type": "code",
   "execution_count": 5,
   "metadata": {},
   "outputs": [],
   "source": [
    "def main():\n",
    "    depth = x     #depth代表爬取页数\n",
    "    infoList = []\n",
    "    for i in range(depth):\n",
    "        try:\n",
    "             url = '输入url'.format(i)   \n",
    "             #i用来翻页，url有对应的page=参数\n",
    "             html = getHTMLText(url)\n",
    "             getPic(infoList, html)\n",
    "        except:\n",
    "            continue\n",
    "    root = \"输入本机图片存放地址\"\n",
    "    savePic(infoList, root)"
   ]
  },
  {
   "cell_type": "code",
   "execution_count": null,
   "metadata": {},
   "outputs": [],
   "source": [
    "main()"
   ]
  }
 ],
 "metadata": {
  "kernelspec": {
   "display_name": "Python 2",
   "language": "python",
   "name": "python2"
  },
  "language_info": {
   "codemirror_mode": {
    "name": "ipython",
    "version": 2
   },
   "file_extension": ".py",
   "mimetype": "text/x-python",
   "name": "python",
   "nbconvert_exporter": "python",
   "pygments_lexer": "ipython2",
   "version": "2.7.6"
  }
 },
 "nbformat": 4,
 "nbformat_minor": 0
}
